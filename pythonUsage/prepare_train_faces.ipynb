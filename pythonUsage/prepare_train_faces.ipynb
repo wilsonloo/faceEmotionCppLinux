{
 "cells": [
  {
   "cell_type": "code",
   "execution_count": 4,
   "metadata": {},
   "outputs": [],
   "source": [
    "# 将原始图片资源里的人脸抽取做训练素材"
   ]
  },
  {
   "cell_type": "code",
   "execution_count": 5,
   "metadata": {},
   "outputs": [],
   "source": [
    "#coding: UTF-8\n",
    "\n",
    "# 包含库 ######################################################\n",
    "# 绘制图片需要\n",
    "from matplotlib import pyplot as plt\n",
    "import numpy as np\n",
    "import cv2\n",
    "from tqdm import tqdm\n",
    "\n",
    "import os\n",
    "import sys\n",
    "sys.path.append('/usr/local/lib64')\n",
    "sys.path.append('/home/wilson/faceEmotionCppLinux/lib')\n",
    "\n",
    "# 引入功能库\n",
    "import extractFace as feExtracter"
   ]
  },
  {
   "cell_type": "code",
   "execution_count": 6,
   "metadata": {},
   "outputs": [],
   "source": [
    "# 获取文件名(带后缀)\n",
    "def getFileName(fileUrl):\n",
    "    filepath, tmpfilename = os.path.split(fileUrl)\n",
    "    return tmpfilename\n",
    "# print(getFileName(\"/home/wilson/aaa.png\"))\n",
    "\n",
    "# 将脸部存储到指定目录\n",
    "def saveFace(faceInfo, faceImageSavePath):\n",
    "    # 原图信息\n",
    "    imagePath = bytes.decode(faceInfo.imagePath)\n",
    "    image = cv2.imread(imagePath)\n",
    "    sp = image.shape            #获取图像形状：返回【行数值，列数值】列表\n",
    "    height = sp[0]                 #图像的高度（行 范围）\n",
    "    width = sp[1]                 #图像的宽度（列 范围）\n",
    "\n",
    "    # 修正截取位置\n",
    "    top = max(0, faceInfo.top)\n",
    "    bottom = min(height, faceInfo.bottom)\n",
    "    left = max(0, faceInfo.left)\n",
    "    right = min(width, faceInfo.right)\n",
    "    cropImg = image[top:bottom, left:right] #裁剪图像\n",
    "    #plt.imshow(cropImg)\n",
    "    #plt.show()\n",
    "    \n",
    "    # 检验解码目录\n",
    "    if not os.path.exists(faceImageSavePath):                                                                                                                    \n",
    "         os.makedirs(faceImageSavePath)\n",
    "    \n",
    "    imageSavePath = faceImageSavePath+getFileName(imagePath)\n",
    "    print(imageSavePath)\n",
    "    cv2.imwrite(imageSavePath,cropImg)  #写入图像路径\n",
    "    \n",
    "# 抽取人脸\n",
    "def extractFace(instance, nodeName, dirPath, faceImageSavePath):\n",
    "    response = feExtracter.extractFace(instance, dirPath)\n",
    "    if response.count < 1:\n",
    "        print(\"no any faces extracted\")\n",
    "    else:\n",
    "        print(nodeName, response.count, \"face extracted\")\n",
    "        for k in tqdm(range(response.count)):\n",
    "            e = response.elems[k]\n",
    "            saveFace(e, faceImageSavePath + nodeName + \"/\")\n",
    "        feExtracter.releaseFaceExtractResponse(instance, response)"
   ]
  },
  {
   "cell_type": "code",
   "execution_count": 7,
   "metadata": {},
   "outputs": [
    {
     "ename": "OSError",
     "evalue": "libfaceEmotion.so: cannot open shared object file: No such file or directory",
     "output_type": "error",
     "traceback": [
      "\u001b[0;31m---------------------------------------------------------------------------\u001b[0m",
      "\u001b[0;31mOSError\u001b[0m                                   Traceback (most recent call last)",
      "\u001b[0;32m<ipython-input-7-1117bcb884b0>\u001b[0m in \u001b[0;36m<module>\u001b[0;34m\u001b[0m\n\u001b[1;32m      4\u001b[0m \u001b[0;34m\u001b[0m\u001b[0m\n\u001b[1;32m      5\u001b[0m \u001b[0;31m# 创建实例\u001b[0m\u001b[0;34m\u001b[0m\u001b[0;34m\u001b[0m\u001b[0m\n\u001b[0;32m----> 6\u001b[0;31m \u001b[0minstance\u001b[0m \u001b[0;34m=\u001b[0m \u001b[0mfeExtracter\u001b[0m\u001b[0;34m.\u001b[0m\u001b[0mcreateInstance\u001b[0m\u001b[0;34m(\u001b[0m\u001b[0;34m)\u001b[0m\u001b[0;34m\u001b[0m\u001b[0m\n\u001b[0m\u001b[1;32m      7\u001b[0m \u001b[0;34m\u001b[0m\u001b[0m\n\u001b[1;32m      8\u001b[0m \u001b[0;31m# 遍历原始图片的根目录\u001b[0m\u001b[0;34m\u001b[0m\u001b[0;34m\u001b[0m\u001b[0m\n",
      "\u001b[0;32m/home/wilson/faceEmotionCppLinux/pythonUsage/extractFace.py\u001b[0m in \u001b[0;36mcreateInstance\u001b[0;34m()\u001b[0m\n\u001b[1;32m     55\u001b[0m \u001b[0;32mdef\u001b[0m \u001b[0mcreateInstance\u001b[0m\u001b[0;34m(\u001b[0m\u001b[0;34m)\u001b[0m\u001b[0;34m:\u001b[0m\u001b[0;34m\u001b[0m\u001b[0m\n\u001b[1;32m     56\u001b[0m     \u001b[0;31m# 加载内部库\u001b[0m\u001b[0;34m\u001b[0m\u001b[0;34m\u001b[0m\u001b[0m\n\u001b[0;32m---> 57\u001b[0;31m     \u001b[0mfe\u001b[0m \u001b[0;34m=\u001b[0m \u001b[0mcdll\u001b[0m\u001b[0;34m.\u001b[0m\u001b[0mLoadLibrary\u001b[0m\u001b[0;34m(\u001b[0m\u001b[0;34m\"libfaceEmotion.so\"\u001b[0m\u001b[0;34m)\u001b[0m\u001b[0;34m\u001b[0m\u001b[0m\n\u001b[0m\u001b[1;32m     58\u001b[0m \u001b[0;34m\u001b[0m\u001b[0m\n\u001b[1;32m     59\u001b[0m     \u001b[0;31m# 初始化实例\u001b[0m\u001b[0;34m\u001b[0m\u001b[0;34m\u001b[0m\u001b[0m\n",
      "\u001b[0;32m/usr/local/python3-3.6.2/lib/python3.6/ctypes/__init__.py\u001b[0m in \u001b[0;36mLoadLibrary\u001b[0;34m(self, name)\u001b[0m\n\u001b[1;32m    424\u001b[0m \u001b[0;34m\u001b[0m\u001b[0m\n\u001b[1;32m    425\u001b[0m     \u001b[0;32mdef\u001b[0m \u001b[0mLoadLibrary\u001b[0m\u001b[0;34m(\u001b[0m\u001b[0mself\u001b[0m\u001b[0;34m,\u001b[0m \u001b[0mname\u001b[0m\u001b[0;34m)\u001b[0m\u001b[0;34m:\u001b[0m\u001b[0;34m\u001b[0m\u001b[0m\n\u001b[0;32m--> 426\u001b[0;31m         \u001b[0;32mreturn\u001b[0m \u001b[0mself\u001b[0m\u001b[0;34m.\u001b[0m\u001b[0m_dlltype\u001b[0m\u001b[0;34m(\u001b[0m\u001b[0mname\u001b[0m\u001b[0;34m)\u001b[0m\u001b[0;34m\u001b[0m\u001b[0m\n\u001b[0m\u001b[1;32m    427\u001b[0m \u001b[0;34m\u001b[0m\u001b[0m\n\u001b[1;32m    428\u001b[0m \u001b[0mcdll\u001b[0m \u001b[0;34m=\u001b[0m \u001b[0mLibraryLoader\u001b[0m\u001b[0;34m(\u001b[0m\u001b[0mCDLL\u001b[0m\u001b[0;34m)\u001b[0m\u001b[0;34m\u001b[0m\u001b[0m\n",
      "\u001b[0;32m/usr/local/python3-3.6.2/lib/python3.6/ctypes/__init__.py\u001b[0m in \u001b[0;36m__init__\u001b[0;34m(self, name, mode, handle, use_errno, use_last_error)\u001b[0m\n\u001b[1;32m    346\u001b[0m \u001b[0;34m\u001b[0m\u001b[0m\n\u001b[1;32m    347\u001b[0m         \u001b[0;32mif\u001b[0m \u001b[0mhandle\u001b[0m \u001b[0;32mis\u001b[0m \u001b[0;32mNone\u001b[0m\u001b[0;34m:\u001b[0m\u001b[0;34m\u001b[0m\u001b[0m\n\u001b[0;32m--> 348\u001b[0;31m             \u001b[0mself\u001b[0m\u001b[0;34m.\u001b[0m\u001b[0m_handle\u001b[0m \u001b[0;34m=\u001b[0m \u001b[0m_dlopen\u001b[0m\u001b[0;34m(\u001b[0m\u001b[0mself\u001b[0m\u001b[0;34m.\u001b[0m\u001b[0m_name\u001b[0m\u001b[0;34m,\u001b[0m \u001b[0mmode\u001b[0m\u001b[0;34m)\u001b[0m\u001b[0;34m\u001b[0m\u001b[0m\n\u001b[0m\u001b[1;32m    349\u001b[0m         \u001b[0;32melse\u001b[0m\u001b[0;34m:\u001b[0m\u001b[0;34m\u001b[0m\u001b[0m\n\u001b[1;32m    350\u001b[0m             \u001b[0mself\u001b[0m\u001b[0;34m.\u001b[0m\u001b[0m_handle\u001b[0m \u001b[0;34m=\u001b[0m \u001b[0mhandle\u001b[0m\u001b[0;34m\u001b[0m\u001b[0m\n",
      "\u001b[0;31mOSError\u001b[0m: libfaceEmotion.so: cannot open shared object file: No such file or directory"
     ]
    }
   ],
   "source": [
    "# 配置原始资源目录，和人脸存放目录\n",
    "rawImagePath = '/home/wilson/TFResFaceEmotion/raw/'\n",
    "faceImageSavePath = '/home/wilson/TFResFaceEmotion/extract/'\n",
    "\n",
    "# 创建实例\n",
    "instance = feExtracter.createInstance()\n",
    "\n",
    "# 遍历原始图片的根目录\n",
    "for nodeName in os.listdir(rawImagePath):\n",
    "    nodePath = rawImagePath + nodeName\n",
    "    if os.path.isdir(nodePath): # 这是表情目录\n",
    "        extractFace(instance, nodeName, nodePath, faceImageSavePath)\n",
    "\n",
    "feExtracter.releaseInstance(instance)\n",
    "print(\"Done\")"
   ]
  },
  {
   "cell_type": "code",
   "execution_count": null,
   "metadata": {},
   "outputs": [],
   "source": []
  }
 ],
 "metadata": {
  "kernelspec": {
   "display_name": "Python 3",
   "language": "python",
   "name": "python3"
  },
  "language_info": {
   "codemirror_mode": {
    "name": "ipython",
    "version": 3
   },
   "file_extension": ".py",
   "mimetype": "text/x-python",
   "name": "python",
   "nbconvert_exporter": "python",
   "pygments_lexer": "ipython3",
   "version": "3.6.2"
  }
 },
 "nbformat": 4,
 "nbformat_minor": 4
}
