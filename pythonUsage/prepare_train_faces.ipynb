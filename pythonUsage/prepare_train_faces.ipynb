{
 "cells": [
  {
   "cell_type": "code",
   "execution_count": 1,
   "metadata": {},
   "outputs": [],
   "source": [
    "# 将原始图片资源里的人脸抽取做训练素材"
   ]
  },
  {
   "cell_type": "code",
   "execution_count": 2,
   "metadata": {},
   "outputs": [],
   "source": [
    "#coding: UTF-8\n",
    "\n",
    "# 包含库 ######################################################\n",
    "# 绘制图片需要\n",
    "from matplotlib import pyplot as plt\n",
    "import numpy as np\n",
    "import cv2\n",
    "from tqdm import tqdm\n",
    "\n",
    "import os\n",
    "import sys\n",
    "\n",
    "# 引入功能库\n",
    "import extractFace as feExtracter"
   ]
  },
  {
   "cell_type": "code",
   "execution_count": 3,
   "metadata": {},
   "outputs": [],
   "source": [
    "# 获取文件名(带后缀)\n",
    "def getFileName(fileUrl):\n",
    "    filepath, tmpfilename = os.path.split(fileUrl)\n",
    "    return tmpfilename\n",
    "# print(getFileName(\"/home/wilson/aaa.png\"))\n",
    "\n",
    "# 将脸部存储到指定目录\n",
    "def saveFace(faceInfo, faceImageSavePath):\n",
    "    # 原图信息\n",
    "    imagePath = bytes.decode(faceInfo.imagePath)\n",
    "    image = cv2.imread(imagePath)\n",
    "    sp = image.shape            #获取图像形状：返回【行数值，列数值】列表\n",
    "    height = sp[0]                 #图像的高度（行 范围）\n",
    "    width = sp[1]                 #图像的宽度（列 范围）\n",
    "\n",
    "    # 修正截取位置\n",
    "    top = max(0, faceInfo.top)\n",
    "    bottom = min(height, faceInfo.bottom)\n",
    "    left = max(0, faceInfo.left)\n",
    "    right = min(width, faceInfo.right)\n",
    "    cropImg = image[top:bottom, left:right] #裁剪图像\n",
    "    #plt.imshow(cropImg)\n",
    "    #plt.show()\n",
    "    \n",
    "    # 检验解码目录\n",
    "    if not os.path.exists(faceImageSavePath):                                                                                                                    \n",
    "         os.makedirs(faceImageSavePath)\n",
    "    \n",
    "    imageSavePath = faceImageSavePath+getFileName(imagePath)\n",
    "    print(imageSavePath)\n",
    "    cv2.imwrite(imageSavePath,cropImg)  #写入图像路径\n",
    "    \n",
    "# 抽取人脸\n",
    "def extractFace(instance, nodeName, dirPath, faceImageSavePath):\n",
    "    response = feExtracter.extractFace(instance, dirPath)\n",
    "    if response.count < 1:\n",
    "        print(\"no any faces extracted\")\n",
    "    else:\n",
    "        print(nodeName, response.count, \"face extracted\")\n",
    "        for k in tqdm(range(response.count)):\n",
    "            e = response.elems[k]\n",
    "            saveFace(e, faceImageSavePath + nodeName + \"/\")\n",
    "        feExtracter.releaseFaceExtractResponse(instance, response)"
   ]
  },
  {
   "cell_type": "code",
   "execution_count": 5,
   "metadata": {},
   "outputs": [
    {
     "name": "stderr",
     "output_type": "stream",
     "text": [
      "100%|██████████| 23/23 [00:00<00:00, 641.81it/s]"
     ]
    },
    {
     "name": "stdout",
     "output_type": "stream",
     "text": [
      "sad 23 face extracted\n",
      "/home/wilson/workstation/TFResFaceEmotion/extract/sad/sad (7).jpg\n",
      "/home/wilson/workstation/TFResFaceEmotion/extract/sad/sad (9).jpg\n",
      "/home/wilson/workstation/TFResFaceEmotion/extract/sad/sad (23).jpg\n",
      "/home/wilson/workstation/TFResFaceEmotion/extract/sad/sad (16).jpg\n",
      "/home/wilson/workstation/TFResFaceEmotion/extract/sad/sad (28).jpg\n",
      "/home/wilson/workstation/TFResFaceEmotion/extract/sad/sad (4).jpg\n",
      "/home/wilson/workstation/TFResFaceEmotion/extract/sad/sad (22).jpg\n",
      "/home/wilson/workstation/TFResFaceEmotion/extract/sad/sad (24).jpg\n",
      "/home/wilson/workstation/TFResFaceEmotion/extract/sad/sad (26).jpg\n",
      "/home/wilson/workstation/TFResFaceEmotion/extract/sad/sad (21).jpg\n",
      "/home/wilson/workstation/TFResFaceEmotion/extract/sad/sad (25).jpg\n",
      "/home/wilson/workstation/TFResFaceEmotion/extract/sad/sad (8).jpg\n",
      "/home/wilson/workstation/TFResFaceEmotion/extract/sad/sad (12).jpg\n",
      "/home/wilson/workstation/TFResFaceEmotion/extract/sad/sad (20).jpg\n",
      "/home/wilson/workstation/TFResFaceEmotion/extract/sad/sad (14).jpg\n",
      "/home/wilson/workstation/TFResFaceEmotion/extract/sad/sad (1).jpg\n",
      "/home/wilson/workstation/TFResFaceEmotion/extract/sad/sad (11).jpg\n",
      "/home/wilson/workstation/TFResFaceEmotion/extract/sad/sad (2).jpg\n",
      "/home/wilson/workstation/TFResFaceEmotion/extract/sad/sad (18).jpg\n",
      "/home/wilson/workstation/TFResFaceEmotion/extract/sad/sad (3).jpg\n",
      "/home/wilson/workstation/TFResFaceEmotion/extract/sad/sad (13).jpg\n",
      "/home/wilson/workstation/TFResFaceEmotion/extract/sad/sad (19).jpg\n",
      "/home/wilson/workstation/TFResFaceEmotion/extract/sad/sad (27).jpg\n"
     ]
    },
    {
     "name": "stderr",
     "output_type": "stream",
     "text": [
      "\n",
      "100%|██████████| 21/21 [00:00<00:00, 708.16it/s]"
     ]
    },
    {
     "name": "stdout",
     "output_type": "stream",
     "text": [
      "happy 21 face extracted\n",
      "/home/wilson/workstation/TFResFaceEmotion/extract/happy/happy (7).jpg\n",
      "/home/wilson/workstation/TFResFaceEmotion/extract/happy/happy (14).jpg\n",
      "/home/wilson/workstation/TFResFaceEmotion/extract/happy/happy (19).jpg\n",
      "/home/wilson/workstation/TFResFaceEmotion/extract/happy/happy (1).jpg\n",
      "/home/wilson/workstation/TFResFaceEmotion/extract/happy/happy (5).jpg\n",
      "/home/wilson/workstation/TFResFaceEmotion/extract/happy/happy (26).jpg\n",
      "/home/wilson/workstation/TFResFaceEmotion/extract/happy/happy (20).jpg\n",
      "/home/wilson/workstation/TFResFaceEmotion/extract/happy/happy (2).jpg\n",
      "/home/wilson/workstation/TFResFaceEmotion/extract/happy/happy (25).jpg\n",
      "/home/wilson/workstation/TFResFaceEmotion/extract/happy/happy (30).jpg\n",
      "/home/wilson/workstation/TFResFaceEmotion/extract/happy/happy (21).jpg\n",
      "/home/wilson/workstation/TFResFaceEmotion/extract/happy/happy (11).jpg\n",
      "/home/wilson/workstation/TFResFaceEmotion/extract/happy/happy (22).jpg\n",
      "/home/wilson/workstation/TFResFaceEmotion/extract/happy/happy (9).jpg\n",
      "/home/wilson/workstation/TFResFaceEmotion/extract/happy/happy (24).jpg\n",
      "/home/wilson/workstation/TFResFaceEmotion/extract/happy/happy (28).jpg\n",
      "/home/wilson/workstation/TFResFaceEmotion/extract/happy/happy (6).jpg\n",
      "/home/wilson/workstation/TFResFaceEmotion/extract/happy/happy (27).jpg\n",
      "/home/wilson/workstation/TFResFaceEmotion/extract/happy/happy (15).jpg\n",
      "/home/wilson/workstation/TFResFaceEmotion/extract/happy/happy (4).jpg\n",
      "/home/wilson/workstation/TFResFaceEmotion/extract/happy/happy (23).jpg\n"
     ]
    },
    {
     "name": "stderr",
     "output_type": "stream",
     "text": [
      "\n",
      "100%|██████████| 11/11 [00:00<00:00, 670.50it/s]"
     ]
    },
    {
     "name": "stdout",
     "output_type": "stream",
     "text": [
      "fear 11 face extracted\n",
      "/home/wilson/workstation/TFResFaceEmotion/extract/fear/fear (6).jpg\n",
      "/home/wilson/workstation/TFResFaceEmotion/extract/fear/fear (14).jpg\n",
      "/home/wilson/workstation/TFResFaceEmotion/extract/fear/fear (7).jpg\n",
      "/home/wilson/workstation/TFResFaceEmotion/extract/fear/fear (13).jpg\n",
      "/home/wilson/workstation/TFResFaceEmotion/extract/fear/fear (2).jpg\n",
      "/home/wilson/workstation/TFResFaceEmotion/extract/fear/fear (3).jpg\n",
      "/home/wilson/workstation/TFResFaceEmotion/extract/fear/fear (4).jpg\n",
      "/home/wilson/workstation/TFResFaceEmotion/extract/fear/fear (1).jpg\n",
      "/home/wilson/workstation/TFResFaceEmotion/extract/fear/fear (10).jpg\n",
      "/home/wilson/workstation/TFResFaceEmotion/extract/fear/fear (11).jpg\n",
      "/home/wilson/workstation/TFResFaceEmotion/extract/fear/fear (12).jpg\n"
     ]
    },
    {
     "name": "stderr",
     "output_type": "stream",
     "text": [
      "\n",
      "100%|██████████| 21/21 [00:00<00:00, 638.56it/s]"
     ]
    },
    {
     "name": "stdout",
     "output_type": "stream",
     "text": [
      "anger 21 face extracted\n",
      "/home/wilson/workstation/TFResFaceEmotion/extract/anger/anger (21).jpg\n",
      "/home/wilson/workstation/TFResFaceEmotion/extract/anger/anger (8).jpg\n",
      "/home/wilson/workstation/TFResFaceEmotion/extract/anger/anger (26).jpg\n",
      "/home/wilson/workstation/TFResFaceEmotion/extract/anger/anger (19).jpg\n",
      "/home/wilson/workstation/TFResFaceEmotion/extract/anger/anger (20).jpg\n",
      "/home/wilson/workstation/TFResFaceEmotion/extract/anger/anger (7).jpg\n",
      "/home/wilson/workstation/TFResFaceEmotion/extract/anger/anger (16).jpg\n",
      "/home/wilson/workstation/TFResFaceEmotion/extract/anger/anger (25).jpg\n",
      "/home/wilson/workstation/TFResFaceEmotion/extract/anger/anger (10).jpg\n",
      "/home/wilson/workstation/TFResFaceEmotion/extract/anger/anger (22).jpg\n",
      "/home/wilson/workstation/TFResFaceEmotion/extract/anger/anger (6).jpg\n",
      "/home/wilson/workstation/TFResFaceEmotion/extract/anger/anger (24).jpg\n",
      "/home/wilson/workstation/TFResFaceEmotion/extract/anger/anger (17).jpg\n",
      "/home/wilson/workstation/TFResFaceEmotion/extract/anger/anger (18).jpg\n",
      "/home/wilson/workstation/TFResFaceEmotion/extract/anger/anger (11).jpg\n",
      "/home/wilson/workstation/TFResFaceEmotion/extract/anger/anger (9).jpg\n",
      "/home/wilson/workstation/TFResFaceEmotion/extract/anger/anger (12).jpg\n",
      "/home/wilson/workstation/TFResFaceEmotion/extract/anger/anger (5).jpg\n",
      "/home/wilson/workstation/TFResFaceEmotion/extract/anger/anger (15).jpg\n",
      "/home/wilson/workstation/TFResFaceEmotion/extract/anger/anger (13).jpg\n",
      "/home/wilson/workstation/TFResFaceEmotion/extract/anger/anger (23).jpg\n"
     ]
    },
    {
     "name": "stderr",
     "output_type": "stream",
     "text": [
      "\n",
      "100%|██████████| 3/3 [00:00<00:00, 726.87it/s]"
     ]
    },
    {
     "name": "stdout",
     "output_type": "stream",
     "text": [
      "disgust 3 face extracted\n",
      "/home/wilson/workstation/TFResFaceEmotion/extract/disgust/disgust (5).jpg\n",
      "/home/wilson/workstation/TFResFaceEmotion/extract/disgust/disgust (1).jpg\n",
      "/home/wilson/workstation/TFResFaceEmotion/extract/disgust/disgust (2).jpg\n",
      "Done\n"
     ]
    },
    {
     "name": "stderr",
     "output_type": "stream",
     "text": [
      "\n"
     ]
    }
   ],
   "source": [
    "# 配置原始资源目录，和人脸存放目录\n",
    "rawImagePath = '/home/wilson/workstation/TFResFaceEmotion/raw/'\n",
    "faceImageSavePath = '/home/wilson/workstation/TFResFaceEmotion/extract/'\n",
    "\n",
    "# 创建实例\n",
    "instance = feExtracter.createInstance()\n",
    "\n",
    "# 遍历原始图片的根目录\n",
    "for nodeName in os.listdir(rawImagePath):\n",
    "    nodePath = rawImagePath + nodeName\n",
    "    if os.path.isdir(nodePath): # 这是表情目录\n",
    "        extractFace(instance, nodeName, nodePath, faceImageSavePath)\n",
    "\n",
    "feExtracter.releaseInstance(instance)\n",
    "print(\"Done\")"
   ]
  },
  {
   "cell_type": "code",
   "execution_count": null,
   "metadata": {},
   "outputs": [],
   "source": []
  }
 ],
 "metadata": {
  "kernelspec": {
   "display_name": "Python 3",
   "language": "python",
   "name": "python3"
  },
  "language_info": {
   "codemirror_mode": {
    "name": "ipython",
    "version": 3
   },
   "file_extension": ".py",
   "mimetype": "text/x-python",
   "name": "python",
   "nbconvert_exporter": "python",
   "pygments_lexer": "ipython3",
   "version": "3.8.2"
  }
 },
 "nbformat": 4,
 "nbformat_minor": 4
}
